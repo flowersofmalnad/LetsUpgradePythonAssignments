{
 "cells": [
  {
   "cell_type": "code",
   "execution_count": 1,
   "metadata": {},
   "outputs": [
    {
     "name": "stdout",
     "output_type": "stream",
     "text": [
      "Collecting emails\n",
      "  Downloading emails-0.6-py2.py3-none-any.whl (56 kB)\n",
      "Collecting premailer\n",
      "  Downloading premailer-3.7.0-py2.py3-none-any.whl (18 kB)\n",
      "Collecting cssutils\n",
      "  Downloading cssutils-1.0.2-py3-none-any.whl (406 kB)\n",
      "Requirement already satisfied: lxml in c:\\users\\hp\\anaconda3\\lib\\site-packages (from emails) (4.5.2)\n",
      "Requirement already satisfied: chardet in c:\\users\\hp\\anaconda3\\lib\\site-packages (from emails) (3.0.4)\n",
      "Requirement already satisfied: python-dateutil in c:\\users\\hp\\anaconda3\\lib\\site-packages (from emails) (2.8.1)\n",
      "Requirement already satisfied: requests in c:\\users\\hp\\anaconda3\\lib\\site-packages (from emails) (2.24.0)\n",
      "Collecting cachetools\n",
      "  Downloading cachetools-4.2.0-py3-none-any.whl (12 kB)\n",
      "Collecting cssselect\n",
      "  Downloading cssselect-1.1.0-py2.py3-none-any.whl (16 kB)\n",
      "Requirement already satisfied: six>=1.5 in c:\\users\\hp\\anaconda3\\lib\\site-packages (from python-dateutil->emails) (1.15.0)\n",
      "Requirement already satisfied: idna<3,>=2.5 in c:\\users\\hp\\anaconda3\\lib\\site-packages (from requests->emails) (2.10)\n",
      "Requirement already satisfied: urllib3!=1.25.0,!=1.25.1,<1.26,>=1.21.1 in c:\\users\\hp\\anaconda3\\lib\\site-packages (from requests->emails) (1.25.9)\n",
      "Requirement already satisfied: certifi>=2017.4.17 in c:\\users\\hp\\anaconda3\\lib\\site-packages (from requests->emails) (2020.6.20)\n",
      "Installing collected packages: cachetools, cssutils, cssselect, premailer, emails\n",
      "Successfully installed cachetools-4.2.0 cssselect-1.1.0 cssutils-1.0.2 emails-0.6 premailer-3.7.0\n"
     ]
    }
   ],
   "source": [
    "!pip install emails"
   ]
  },
  {
   "cell_type": "code",
   "execution_count": 1,
   "metadata": {},
   "outputs": [],
   "source": [
    "import emails"
   ]
  },
  {
   "cell_type": "code",
   "execution_count": 39,
   "metadata": {},
   "outputs": [],
   "source": [
    "message = emails.html(html='''<p>Hii!</p>\n",
    "                                <p>How are you? How is your day going?</p>\n",
    "                               <p>Here is an important message to you.</p>\n",
    "                                <p>I have been attending the python classes from LETSUPGRADE and today, I am sending you this email as the mentor has taught me to send this by using Python.</p>\n",
    "                                <p>I am very happy to be a student of LETSUPGRADE.</p>\n",
    "                                <p>Hope you are doing good.</p>\n",
    "                                <p>Looking forward to your reply.</p>''',\n",
    "                          subject=\"This mail is important\",\n",
    "                          mail_from=('Me','rishalnishma5120@gmail.com'))"
   ]
  },
  {
   "cell_type": "code",
   "execution_count": 40,
   "metadata": {},
   "outputs": [],
   "source": [
    "def sendMail(email):\n",
    "    mail_via_python=message.send(to=email,\n",
    "                             smtp={'host': 'smtp.gmail.com',\n",
    "                                   'timeout': 5,\n",
    "                                  'port': 587,\n",
    "                                  'user':'rishalnishma5120@gmail.com',\n",
    "                                  'password':'000000',\n",
    "                                  'tls':True})\n",
    "    return  mail_via_python.status_code"
   ]
  },
  {
   "cell_type": "code",
   "execution_count": 41,
   "metadata": {},
   "outputs": [
    {
     "data": {
      "text/plain": [
       "250"
      ]
     },
     "execution_count": 41,
     "metadata": {},
     "output_type": "execute_result"
    }
   ],
   "source": [
    "sendMail('mymailid@gmail.com')\n"
   ]
  },
  {
   "cell_type": "code",
   "execution_count": null,
   "metadata": {},
   "outputs": [],
   "source": []
  }
 ],
 "metadata": {
  "kernelspec": {
   "display_name": "Python 3",
   "language": "python",
   "name": "python3"
  },
  "language_info": {
   "codemirror_mode": {
    "name": "ipython",
    "version": 3
   },
   "file_extension": ".py",
   "mimetype": "text/x-python",
   "name": "python",
   "nbconvert_exporter": "python",
   "pygments_lexer": "ipython3",
   "version": "3.8.3"
  }
 },
 "nbformat": 4,
 "nbformat_minor": 4
}
